{
  "nbformat": 4,
  "nbformat_minor": 0,
  "metadata": {
    "colab": {
      "provenance": []
    },
    "kernelspec": {
      "name": "python3",
      "display_name": "Python 3"
    },
    "language_info": {
      "name": "python"
    }
  },
  "cells": [
    {
      "cell_type": "code",
      "execution_count": null,
      "metadata": {
        "id": "P7TQL-omxlBs"
      },
      "outputs": [],
      "source": [
        "from zipfile import ZipFile"
      ]
    },
    {
      "cell_type": "code",
      "source": [
        "from google.colab import drive\n",
        "drive.mount('/content/gdrive')"
      ],
      "metadata": {
        "colab": {
          "base_uri": "https://localhost:8080/"
        },
        "id": "cJ-nV0t-x-61",
        "outputId": "96696d96-7752-44a1-bded-ada51b7df3d2"
      },
      "execution_count": null,
      "outputs": [
        {
          "output_type": "stream",
          "name": "stdout",
          "text": [
            "Drive already mounted at /content/gdrive; to attempt to forcibly remount, call drive.mount(\"/content/gdrive\", force_remount=True).\n"
          ]
        }
      ]
    },
    {
      "cell_type": "code",
      "source": [
        "!unzip '/content/gdrive/MyDrive/Animal_Dataset.zip'"
      ],
      "metadata": {
        "colab": {
          "base_uri": "https://localhost:8080/"
        },
        "id": "AL57Q8SsyII9",
        "outputId": "b99ef943-85e2-4e37-c181-9fe5eeb23d96"
      },
      "execution_count": null,
      "outputs": [
        {
          "metadata": {
            "tags": null
          },
          "name": "stdout",
          "output_type": "stream",
          "text": [
            "Archive:  /content/gdrive/MyDrive/Animal_Dataset.zip\n",
            "replace dataset/Testing/bears/k4 (100).jpeg? [y]es, [n]o, [A]ll, [N]one, [r]ename: "
          ]
        }
      ]
    },
    {
      "cell_type": "code",
      "source": [
        "# Data Augmentation\n",
        "\n",
        "from tensorflow.keras.preprocessing.image import ImageDataGenerator"
      ],
      "metadata": {
        "id": "rUCMmp7eyPQr"
      },
      "execution_count": null,
      "outputs": []
    },
    {
      "cell_type": "code",
      "source": [
        "train_gen = ImageDataGenerator(rescale=(1./255),horizontal_flip=True,shear_range=0.2)\n",
        "test_gen = ImageDataGenerator(rescale=(1./255))  #--> (0 to 255) convert to (0 to 1)"
      ],
      "metadata": {
        "id": "JIf-c9B5P_gW"
      },
      "execution_count": null,
      "outputs": []
    },
    {
      "cell_type": "code",
      "source": [
        "train = train_gen.flow_from_directory('/content/dataset/Training',\n",
        "                                      target_size=(120, 120),\n",
        "                                      class_mode='categorical',\n",
        "                                      batch_size=8)\n",
        "test = test_gen.flow_from_directory('/content/dataset/Testing',\n",
        "                                    target_size=(120, 120),\n",
        "                                      class_mode='categorical',\n",
        "                                      batch_size=8)"
      ],
      "metadata": {
        "colab": {
          "base_uri": "https://localhost:8080/"
        },
        "id": "8ZX1xY9KyRve",
        "outputId": "26a1664e-392b-4687-8cb9-20239d235337"
      },
      "execution_count": null,
      "outputs": [
        {
          "output_type": "stream",
          "name": "stdout",
          "text": [
            "Found 1238 images belonging to 4 classes.\n",
            "Found 326 images belonging to 4 classes.\n"
          ]
        }
      ]
    },
    {
      "cell_type": "code",
      "source": [
        "train.class_indices"
      ],
      "metadata": {
        "colab": {
          "base_uri": "https://localhost:8080/"
        },
        "id": "d9OGOGA9yUam",
        "outputId": "a93f5b1c-b497-4e7a-c558-6fb9fa143228"
      },
      "execution_count": null,
      "outputs": [
        {
          "output_type": "execute_result",
          "data": {
            "text/plain": [
              "{'bears': 0, 'crows': 1, 'elephants': 2, 'rats': 3}"
            ]
          },
          "metadata": {},
          "execution_count": 19
        }
      ]
    },
    {
      "cell_type": "code",
      "source": [
        "# CNN\n",
        "\n",
        "from tensorflow.keras.layers import Convolution2D,MaxPooling2D,Flatten,Dense\n",
        "from tensorflow.keras.models import Sequential"
      ],
      "metadata": {
        "id": "vckmGkCWyWvt"
      },
      "execution_count": null,
      "outputs": []
    },
    {
      "cell_type": "code",
      "source": [
        "model = Sequential()\n",
        "model.add(Convolution2D(20,(3,3),activation='relu',input_shape=(120, 120, 3)))\n",
        "model.add(MaxPooling2D(pool_size=(2,2)))\n",
        "model.add(Flatten())\n",
        "model.add(Dense(45,activation='relu'))\n",
        "model.add(Dense(4,activation='softmax'))"
      ],
      "metadata": {
        "id": "z3xVZtt9yZOt"
      },
      "execution_count": null,
      "outputs": []
    },
    {
      "cell_type": "code",
      "source": [
        "model.compile(optimizer='adam',loss='categorical_crossentropy',metrics=['accuracy'])"
      ],
      "metadata": {
        "id": "yPjGHpKnycdm"
      },
      "execution_count": null,
      "outputs": []
    },
    {
      "cell_type": "code",
      "source": [
        "model.fit(train,batch_size=8,validation_data=test,epochs=10)"
      ],
      "metadata": {
        "colab": {
          "base_uri": "https://localhost:8080/"
        },
        "id": "VGqK8xhmyjYO",
        "outputId": "574b5164-1372-4459-9db3-6774aaaae3dd"
      },
      "execution_count": null,
      "outputs": [
        {
          "output_type": "stream",
          "name": "stdout",
          "text": [
            "Epoch 1/10\n",
            "155/155 [==============================] - 26s 161ms/step - loss: 1.4169 - accuracy: 0.4483 - val_loss: 0.8262 - val_accuracy: 0.6933\n",
            "Epoch 2/10\n",
            "155/155 [==============================] - 23s 147ms/step - loss: 0.7440 - accuracy: 0.7407 - val_loss: 0.6099 - val_accuracy: 0.7331\n",
            "Epoch 3/10\n",
            "155/155 [==============================] - 23s 149ms/step - loss: 0.4491 - accuracy: 0.8562 - val_loss: 0.2174 - val_accuracy: 0.9509\n",
            "Epoch 4/10\n",
            "155/155 [==============================] - 23s 150ms/step - loss: 0.2644 - accuracy: 0.9200 - val_loss: 0.2966 - val_accuracy: 0.8865\n",
            "Epoch 5/10\n",
            "155/155 [==============================] - 23s 147ms/step - loss: 0.1621 - accuracy: 0.9548 - val_loss: 0.0680 - val_accuracy: 0.9877\n",
            "Epoch 6/10\n",
            "155/155 [==============================] - 24s 156ms/step - loss: 0.0966 - accuracy: 0.9733 - val_loss: 0.0547 - val_accuracy: 0.9908\n",
            "Epoch 7/10\n",
            "155/155 [==============================] - 25s 160ms/step - loss: 0.0755 - accuracy: 0.9774 - val_loss: 0.0604 - val_accuracy: 0.9939\n",
            "Epoch 8/10\n",
            "155/155 [==============================] - 23s 147ms/step - loss: 0.0633 - accuracy: 0.9895 - val_loss: 0.0128 - val_accuracy: 1.0000\n",
            "Epoch 9/10\n",
            "155/155 [==============================] - 26s 168ms/step - loss: 0.0380 - accuracy: 0.9943 - val_loss: 0.0278 - val_accuracy: 0.9969\n",
            "Epoch 10/10\n",
            "155/155 [==============================] - 24s 156ms/step - loss: 0.0141 - accuracy: 0.9992 - val_loss: 0.0254 - val_accuracy: 0.9969\n"
          ]
        },
        {
          "output_type": "execute_result",
          "data": {
            "text/plain": [
              "<keras.src.callbacks.History at 0x7fa5faddd540>"
            ]
          },
          "metadata": {},
          "execution_count": 23
        }
      ]
    },
    {
      "cell_type": "code",
      "source": [
        "model.save('animal.h5')"
      ],
      "metadata": {
        "colab": {
          "base_uri": "https://localhost:8080/"
        },
        "id": "YNzbURaCyMB7",
        "outputId": "b5f8bcc6-a36f-46ae-d7f5-483415a4673b"
      },
      "execution_count": null,
      "outputs": [
        {
          "output_type": "stream",
          "name": "stderr",
          "text": [
            "/usr/local/lib/python3.10/dist-packages/keras/src/engine/training.py:3000: UserWarning: You are saving your model as an HDF5 file via `model.save()`. This file format is considered legacy. We recommend using instead the native Keras format, e.g. `model.save('my_model.keras')`.\n",
            "  saving_api.save_model(\n"
          ]
        }
      ]
    },
    {
      "cell_type": "code",
      "source": [
        "# Testing\n",
        "\n",
        "import numpy as np\n",
        "from tensorflow.keras.preprocessing import image"
      ],
      "metadata": {
        "id": "6ARqo5xy1ZXE"
      },
      "execution_count": null,
      "outputs": []
    },
    {
      "cell_type": "code",
      "source": [
        "img = image.load_img('/content/gdrive/MyDrive/crow.jpeg',target_size=(120,120))"
      ],
      "metadata": {
        "id": "opR-Cy7A1dHZ"
      },
      "execution_count": null,
      "outputs": []
    },
    {
      "cell_type": "code",
      "source": [
        "img"
      ],
      "metadata": {
        "colab": {
          "base_uri": "https://localhost:8080/",
          "height": 137
        },
        "id": "rYGA5UHe4Dlc",
        "outputId": "2c227edc-efb7-416f-fde6-bea5df5db5ec"
      },
      "execution_count": null,
      "outputs": [
        {
          "output_type": "execute_result",
          "data": {
            "text/plain": [
              "<PIL.Image.Image image mode=RGB size=120x120>"
            ],
            "image/png": "[encoded data removed]"
          },
          "metadata": {},
          "execution_count": 28
        }
      ]
    },
    {
      "cell_type": "code",
      "source": [
        "img = image.img_to_array(img)\n",
        "img"
      ],
      "metadata": {
        "colab": {
          "base_uri": "https://localhost:8080/"
        },
        "id": "FhTV8vJV4Fwc",
        "outputId": "34bcdee4-cd12-46e5-cf79-d97a0436cda9"
      },
      "execution_count": null,
      "outputs": [
        {
          "output_type": "execute_result",
          "data": {
            "text/plain": [
              "array([[[255., 255., 255.],\n",
              "        [255., 255., 255.],\n",
              "        [255., 255., 255.],\n",
              "        ...,\n",
              "        [252., 247., 244.],\n",
              "        [251., 246., 243.],\n",
              "        [251., 246., 243.]],\n",
              "\n",
              "       [[255., 255., 255.],\n",
              "        [255., 255., 255.],\n",
              "        [255., 255., 255.],\n",
              "        ...,\n",
              "        [252., 247., 244.],\n",
              "        [251., 246., 243.],\n",
              "        [251., 246., 243.]],\n",
              "\n",
              "       [[255., 255., 255.],\n",
              "        [255., 255., 255.],\n",
              "        [255., 255., 255.],\n",
              "        ...,\n",
              "        [252., 247., 244.],\n",
              "        [251., 246., 243.],\n",
              "        [251., 246., 243.]],\n",
              "\n",
              "       ...,\n",
              "\n",
              "       [[255., 255., 255.],\n",
              "        [255., 255., 255.],\n",
              "        [255., 255., 255.],\n",
              "        ...,\n",
              "        [254., 253., 251.],\n",
              "        [254., 253., 251.],\n",
              "        [254., 253., 251.]],\n",
              "\n",
              "       [[255., 255., 255.],\n",
              "        [255., 255., 255.],\n",
              "        [255., 255., 255.],\n",
              "        ...,\n",
              "        [255., 254., 252.],\n",
              "        [254., 253., 251.],\n",
              "        [254., 253., 251.]],\n",
              "\n",
              "       [[255., 255., 255.],\n",
              "        [255., 255., 255.],\n",
              "        [255., 255., 255.],\n",
              "        ...,\n",
              "        [255., 254., 252.],\n",
              "        [254., 253., 251.],\n",
              "        [254., 253., 251.]]], dtype=float32)"
            ]
          },
          "metadata": {},
          "execution_count": 29
        }
      ]
    },
    {
      "cell_type": "code",
      "source": [
        "img = np.expand_dims(img,axis=0)\n",
        "img"
      ],
      "metadata": {
        "colab": {
          "base_uri": "https://localhost:8080/"
        },
        "id": "7unm9z1b4UlH",
        "outputId": "6136f2e9-25e4-41c3-abba-7cabd6aa5045"
      },
      "execution_count": null,
      "outputs": [
        {
          "output_type": "execute_result",
          "data": {
            "text/plain": [
              "array([[[[255., 255., 255.],\n",
              "         [255., 255., 255.],\n",
              "         [255., 255., 255.],\n",
              "         ...,\n",
              "         [252., 247., 244.],\n",
              "         [251., 246., 243.],\n",
              "         [251., 246., 243.]],\n",
              "\n",
              "        [[255., 255., 255.],\n",
              "         [255., 255., 255.],\n",
              "         [255., 255., 255.],\n",
              "         ...,\n",
              "         [252., 247., 244.],\n",
              "         [251., 246., 243.],\n",
              "         [251., 246., 243.]],\n",
              "\n",
              "        [[255., 255., 255.],\n",
              "         [255., 255., 255.],\n",
              "         [255., 255., 255.],\n",
              "         ...,\n",
              "         [252., 247., 244.],\n",
              "         [251., 246., 243.],\n",
              "         [251., 246., 243.]],\n",
              "\n",
              "        ...,\n",
              "\n",
              "        [[255., 255., 255.],\n",
              "         [255., 255., 255.],\n",
              "         [255., 255., 255.],\n",
              "         ...,\n",
              "         [254., 253., 251.],\n",
              "         [254., 253., 251.],\n",
              "         [254., 253., 251.]],\n",
              "\n",
              "        [[255., 255., 255.],\n",
              "         [255., 255., 255.],\n",
              "         [255., 255., 255.],\n",
              "         ...,\n",
              "         [255., 254., 252.],\n",
              "         [254., 253., 251.],\n",
              "         [254., 253., 251.]],\n",
              "\n",
              "        [[255., 255., 255.],\n",
              "         [255., 255., 255.],\n",
              "         [255., 255., 255.],\n",
              "         ...,\n",
              "         [255., 254., 252.],\n",
              "         [254., 253., 251.],\n",
              "         [254., 253., 251.]]]], dtype=float32)"
            ]
          },
          "metadata": {},
          "execution_count": 30
        }
      ]
    },
    {
      "cell_type": "code",
      "source": [
        "np.argmax(model.predict(img))"
      ],
      "metadata": {
        "colab": {
          "base_uri": "https://localhost:8080/"
        },
        "id": "U47ecWNt4XOZ",
        "outputId": "52234756-35a0-4708-870f-a37cf21fd7f2"
      },
      "execution_count": null,
      "outputs": [
        {
          "output_type": "stream",
          "name": "stdout",
          "text": [
            "1/1 [==============================] - 0s 109ms/step\n"
          ]
        },
        {
          "output_type": "execute_result",
          "data": {
            "text/plain": [
              "3"
            ]
          },
          "metadata": {},
          "execution_count": 31
        }
      ]
    }
  ]
}