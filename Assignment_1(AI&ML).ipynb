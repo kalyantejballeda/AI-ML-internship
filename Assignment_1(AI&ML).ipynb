{
  "nbformat": 4,
  "nbformat_minor": 0,
  "metadata": {
    "colab": {
      "provenance": [],
      "authorship_tag": "ABX9TyN1wyA2B2+gKVNl54HcbQxS",
      "include_colab_link": true
    },
    "kernelspec": {
      "name": "python3",
      "display_name": "Python 3"
    },
    "language_info": {
      "name": "python"
    }
  },
  "cells": [
    {
      "cell_type": "markdown",
      "metadata": {
        "id": "view-in-github",
        "colab_type": "text"
      },
      "source": [
        "<a href=\"https://colab.research.google.com/github/kalyantejballeda/AI-ML-internship/blob/main/Assignment_1(AI%26ML).ipynb\" target=\"_parent\"><img src=\"https://colab.research.google.com/assets/colab-badge.svg\" alt=\"Open In Colab\"/></a>"
      ]
    },
    {
      "cell_type": "code",
      "execution_count": null,
      "metadata": {
        "colab": {
          "base_uri": "https://localhost:8080/"
        },
        "id": "3Q3LJSDaUDuO",
        "outputId": "82719f17-3e7a-43f7-f58a-6711a04d6d50"
      },
      "outputs": [
        {
          "output_type": "execute_result",
          "data": {
            "text/plain": [
              "[1, 2, 3, 4, 2, 4, 6, 8]"
            ]
          },
          "metadata": {},
          "execution_count": 1
        }
      ],
      "source": [
        "# TASK 1 :-\n",
        "\n",
        "a=[1,2,3,4]\n",
        "b=[2,4,6,8]\n",
        "\n",
        "a+b"
      ]
    },
    {
      "cell_type": "code",
      "source": [
        "# TASK 2 :-\n",
        "\n",
        "num = int(input(\"ENTER YOUR NUMBER :\"))\n",
        "if(num%2) == 0:\n",
        "  print(\"Given no is an Even\".format(num))\n",
        "else:\n",
        "    print(\"Given no is an Odd\".format(num))"
      ],
      "metadata": {
        "colab": {
          "base_uri": "https://localhost:8080/"
        },
        "id": "WMGnfMgBURF4",
        "outputId": "acf6ad89-30b0-4764-eae0-44b00903c6f9"
      },
      "execution_count": null,
      "outputs": [
        {
          "output_type": "stream",
          "name": "stdout",
          "text": [
            "ENTER YOUR NUMBER :7\n",
            "Given no is an Odd\n"
          ]
        }
      ]
    },
    {
      "cell_type": "code",
      "source": [
        "# TASK 3 :-\n",
        "\n",
        "d1 = {'S.No':[1,2,3,4,5,6],'NAME':['kalyan tej','david','santhosh','naveen','naresh','kali',],'ROLL_NO':[8,11,9,16,67,59]}\n",
        "d1"
      ],
      "metadata": {
        "colab": {
          "base_uri": "https://localhost:8080/"
        },
        "id": "834eacvxUW-L",
        "outputId": "1e157dcd-8e8e-4339-d0dc-ffed8d6af59e"
      },
      "execution_count": null,
      "outputs": [
        {
          "output_type": "execute_result",
          "data": {
            "text/plain": [
              "{'S.No': [1, 2, 3, 4, 5, 6],\n",
              " 'NAME': ['kalyan tej', 'david', 'santhosh', 'naveen', 'naresh', 'kali'],\n",
              " 'ROLL_NO': [8, 11, 9, 16, 67, 59]}"
            ]
          },
          "metadata": {},
          "execution_count": 3
        }
      ]
    },
    {
      "cell_type": "code",
      "source": [
        "# TASK 4 :-\n",
        "\n",
        "num=int(input(\"Enter a number to check odd or even: \"))\n",
        "\n",
        "def To_find_Evenorodd(num):\n",
        "\n",
        "    if(num%2==0):\n",
        "        print(\"Given no\",num,\"is an Even\")\n",
        "    else:\n",
        "        print(\"Given no\",num,\"is an Odd\")\n",
        "\n",
        "To_find_Evenorodd(num);"
      ],
      "metadata": {
        "colab": {
          "base_uri": "https://localhost:8080/"
        },
        "id": "-Rmd9BUdUcWx",
        "outputId": "f05e9720-5f71-45b0-a4ba-5a3baf8caafd"
      },
      "execution_count": null,
      "outputs": [
        {
          "output_type": "stream",
          "name": "stdout",
          "text": [
            "Enter a number to check odd or even: 3\n",
            "Given no 3 is an Odd\n"
          ]
        }
      ]
    },
    {
      "cell_type": "code",
      "source": [
        "# TASK 5 :-\n",
        "\n",
        "def sum_of_num(num):\n",
        "    total=0\n",
        "    for i in num:\n",
        "        total = total+i\n",
        "    return total\n",
        "\n",
        "num = [10, 9, 8, 7, 6]\n",
        "print(num)\n",
        "print(\"sum of numbers: \",sum_of_num(num))"
      ],
      "metadata": {
        "colab": {
          "base_uri": "https://localhost:8080/"
        },
        "id": "8h-rvM4fUhmV",
        "outputId": "e0e997e3-6108-4d6c-e676-78e7e75cc01c"
      },
      "execution_count": null,
      "outputs": [
        {
          "output_type": "stream",
          "name": "stdout",
          "text": [
            "[10, 9, 8, 7, 6]\n",
            "sum of numbers:  40\n"
          ]
        }
      ]
    }
  ]
}